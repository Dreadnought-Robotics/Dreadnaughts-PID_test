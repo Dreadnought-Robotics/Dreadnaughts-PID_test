{
 "cells": [
  {
   "cell_type": "code",
   "execution_count": 3,
   "metadata": {},
   "outputs": [],
   "source": [
    "import time"
   ]
  },
  {
   "cell_type": "code",
   "execution_count": 3,
   "metadata": {},
   "outputs": [
    {
     "name": "stdout",
     "output_type": "stream",
     "text": [
      "7.0\n"
     ]
    }
   ],
   "source": [
    "def better_pid_config(t_rise, delta):\n",
    "        \"\"\"\n",
    "        From `t_rise` and `delta` returns kp and kd\n",
    "        \"\"\"\n",
    "        w = 1/(1.57*t_rise)\n",
    "        return w * w, 2 * delta * w\n",
    "\n",
    "altitude_k_p, altitude_k_d = better_pid_config(.1, .85)\n",
    "\n",
    "altitude_k_p = 7.\n",
    "\n",
    "print(altitude_k_p)"
   ]
  },
  {
   "cell_type": "code",
   "execution_count": 4,
   "metadata": {},
   "outputs": [
    {
     "ename": "NameError",
     "evalue": "name 'time' is not defined",
     "output_type": "error",
     "traceback": [
      "\u001b[0;31m---------------------------------------------------------------------------\u001b[0m",
      "\u001b[0;31mNameError\u001b[0m                                 Traceback (most recent call last)",
      "Cell \u001b[0;32mIn[4], line 1\u001b[0m\n\u001b[0;32m----> 1\u001b[0m start_time \u001b[39m=\u001b[39m time\u001b[39m.\u001b[39mtime()\n\u001b[1;32m      2\u001b[0m c \u001b[39m=\u001b[39m \u001b[39m9\u001b[39m \u001b[39m+\u001b[39m \u001b[39m72346234\u001b[39m\n\u001b[1;32m      3\u001b[0m end_time \u001b[39m=\u001b[39m time\u001b[39m.\u001b[39mti\n",
      "\u001b[0;31mNameError\u001b[0m: name 'time' is not defined"
     ]
    }
   ],
   "source": [
    "start_time = time.time()\n",
    "c = 9 + 72346234\n",
    "end_time = time.ti\n",
    "me()\n",
    "time_lapsed = end_time - start_time\n",
    "print(time_lapsed)"
   ]
  },
  {
   "cell_type": "code",
   "execution_count": null,
   "metadata": {},
   "outputs": [],
   "source": [
    "from frame_utils import euler2RM\n",
    "def altitude_control(self, altitude_cmd, vertical_velocity_cmd, altitude, vertical_velocity, attitude, acceleration_ff=0.0):\n",
    "        \"\"\"Generate vertical acceleration (thrust) command\n",
    "        Args:\n",
    "            altitude_cmd: desired vertical position (+up)\n",
    "            vertical_velocity_cmd: desired vertical velocity (+up)\n",
    "            altitude: vehicle vertical position (+up)\n",
    "            vertical_velocity: vehicle vertical velocity (+up)\n",
    "            attitude: the vehicle's current attitude, 3 element numpy array (roll, pitch, yaw) in radians\n",
    "            acceleration_ff: feedforward acceleration command (+up)\n",
    "        Returns: thrust command for the vehicle (+up)\n",
    "        \"\"\"\n",
    "        z_err = altitude_cmd - altitude\n",
    "        z_err_dot = vertical_velocity_cmd - vertical_velocity\n",
    "        b_z = euler2RM(*attitude)[2,2]\n",
    "\n",
    "        u_1 = self.altitude_k_p * z_err + self.altitude_k_d * z_err_dot + acceleration_ff\n",
    "        acc = (u_1 - GRAVITY)/b_z\n",
    "\n",
    "        thrust = DRONE_MASS_KG * acc\n",
    "        if thrust > MAX_THRUST:\n",
    "            thrust = MAX_THRUST\n",
    "        else:\n",
    "            if thrust < 0.:\n",
    "                thurst = 0.\n",
    "\n",
    "        return "
   ]
  }
 ],
 "metadata": {
  "kernelspec": {
   "display_name": "Python 3",
   "language": "python",
   "name": "python3"
  },
  "language_info": {
   "codemirror_mode": {
    "name": "ipython",
    "version": 3
   },
   "file_extension": ".py",
   "mimetype": "text/x-python",
   "name": "python",
   "nbconvert_exporter": "python",
   "pygments_lexer": "ipython3",
   "version": "3.8.10"
  },
  "orig_nbformat": 4,
  "vscode": {
   "interpreter": {
    "hash": "916dbcbb3f70747c44a77c7bcd40155683ae19c65e1c03b4aa3499c5328201f1"
   }
  }
 },
 "nbformat": 4,
 "nbformat_minor": 2
}
